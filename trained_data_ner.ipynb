{
 "cells": [
  {
   "cell_type": "code",
   "execution_count": 2,
   "id": "6f0efd1e",
   "metadata": {},
   "outputs": [],
   "source": [
    "# !python3 -m pip install --upgrade pip\n",
    "!pip install -U spacy -q"
   ]
  },
  {
   "cell_type": "code",
   "execution_count": 3,
   "id": "ecdc6cc0",
   "metadata": {},
   "outputs": [
    {
     "name": "stdout",
     "output_type": "stream",
     "text": [
      "2023-06-02 12:35:31.002530: I tensorflow/core/platform/cpu_feature_guard.cc:182] This TensorFlow binary is optimized to use available CPU instructions in performance-critical operations.\n",
      "To enable the following instructions: AVX2 FMA, in other operations, rebuild TensorFlow with the appropriate compiler flags.\n",
      "2023-06-02 12:35:39.510738: W tensorflow/compiler/tf2tensorrt/utils/py_utils.cc:38] TF-TRT Warning: Could not find TensorRT\n",
      "\u001b[1m\n",
      "============================== Info about spaCy ==============================\u001b[0m\n",
      "\n",
      "spaCy version    3.5.3                         \n",
      "Location         /home/aarika/.local/lib/python3.10/site-packages/spacy\n",
      "Platform         Linux-5.19.0-43-generic-x86_64-with-glibc2.35\n",
      "Python version   3.10.6                        \n",
      "Pipelines                                      \n",
      "\n"
     ]
    }
   ],
   "source": [
    "!python3 -m spacy info"
   ]
  },
  {
   "cell_type": "code",
   "execution_count": 4,
   "id": "87c67277",
   "metadata": {},
   "outputs": [
    {
     "name": "stderr",
     "output_type": "stream",
     "text": [
      "2023-06-02 12:36:30.055142: I tensorflow/core/platform/cpu_feature_guard.cc:182] This TensorFlow binary is optimized to use available CPU instructions in performance-critical operations.\n",
      "To enable the following instructions: AVX2 FMA, in other operations, rebuild TensorFlow with the appropriate compiler flags.\n",
      "2023-06-02 12:36:30.885159: W tensorflow/compiler/tf2tensorrt/utils/py_utils.cc:38] TF-TRT Warning: Could not find TensorRT\n"
     ]
    }
   ],
   "source": [
    "import spacy\n",
    "from spacy.tokens import DocBin\n",
    "from tqdm import tqdm\n",
    "\n",
    "nlp = spacy.blank(\"en\") # load a new spacy model\n",
    "db = DocBin()"
   ]
  },
  {
   "cell_type": "code",
   "execution_count": null,
   "id": "a3764d14",
   "metadata": {},
   "outputs": [],
   "source": [
    "import json\n",
    "with open('/home/sunil/Desktop/np/annotations_5.json', 'r') as f:\n",
    "    TRAIN_DATA = json.load(f)"
   ]
  },
  {
   "cell_type": "code",
   "execution_count": null,
   "id": "387d9166",
   "metadata": {},
   "outputs": [],
   "source": [
    "for text, annot in tqdm(TRAIN_DATA['annotations']): \n",
    "    try:\n",
    "        doc = nlp(text) \n",
    "        ents = []\n",
    "        for start, end, label in annot[\"entities\"]:\n",
    "            try:\n",
    "                span = doc.char_span(start, end, label=label, alignment_mode=\"expand\")\n",
    "                if span is None:\n",
    "                    print(f\"Skipping entity: {label} ({start}, {end})\")\n",
    "                else:\n",
    "                    ents.append(span)\n",
    "            except ValueError as e:\n",
    "                print(f\"Error: {e} ({label} ({start}, {end}))\")\n",
    "                print(\"Skipping entity\")\n",
    "                continue\n",
    "        doc.ents = ents \n",
    "        db.add(doc)\n",
    "    except Exception as e:\n",
    "        print(f\"Error: {e} ({text})\")\n",
    "        \n",
    "db.to_disk(\"./training_data.spacy\")\n"
   ]
  },
  {
   "cell_type": "code",
   "execution_count": null,
   "id": "41d52803",
   "metadata": {},
   "outputs": [],
   "source": [
    "print(type(TRAIN_DATA))\n",
    "print(TRAIN_DATA)"
   ]
  },
  {
   "cell_type": "code",
   "execution_count": null,
   "id": "5baaa771",
   "metadata": {},
   "outputs": [],
   "source": [
    "#!python -m spacy init config config.cfg --lang en --pipeline ner --optimize efficiency\n",
    "# !python3 -m spacy init fill-config base_config.cfg config.cfg\n",
    "# !python3 -m spacy init fill-config --help\n",
    "# !python3 -m spacy init fill-config "
   ]
  },
  {
   "cell_type": "code",
   "execution_count": null,
   "id": "c791fddd",
   "metadata": {},
   "outputs": [],
   "source": [
    "! python3 -m spacy train config.cfg --output ./ --paths.train ./training_data.spacy --paths.dev ./training_data.spacy"
   ]
  },
  {
   "cell_type": "code",
   "execution_count": null,
   "id": "a59742fb",
   "metadata": {},
   "outputs": [],
   "source": [
    "nlp_ner = spacy.load(\"/home/aarika/Desktop/OCR/model-best\") \n",
    "print(type(nlp_ner))"
   ]
  },
  {
   "cell_type": "code",
   "execution_count": null,
   "id": "f7234d51",
   "metadata": {},
   "outputs": [],
   "source": []
  }
 ],
 "metadata": {
  "kernelspec": {
   "display_name": "Python 3 (ipykernel)",
   "language": "python",
   "name": "python3"
  },
  "language_info": {
   "codemirror_mode": {
    "name": "ipython",
    "version": 3
   },
   "file_extension": ".py",
   "mimetype": "text/x-python",
   "name": "python",
   "nbconvert_exporter": "python",
   "pygments_lexer": "ipython3",
   "version": "3.10.6"
  }
 },
 "nbformat": 4,
 "nbformat_minor": 5
}
